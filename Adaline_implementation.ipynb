{
 "cells": [
  {
   "cell_type": "code",
   "execution_count": 1,
   "id": "31feb5f7",
   "metadata": {},
   "outputs": [],
   "source": [
    "import numpy as np\n",
    "import pandas as pd"
   ]
  },
  {
   "cell_type": "code",
   "execution_count": 2,
   "id": "5ecb4ac0",
   "metadata": {},
   "outputs": [
    {
     "name": "stdout",
     "output_type": "stream",
     "text": [
      "'Adaline AI lab 4.ipynb'   male_female_prediction.csv\r\n"
     ]
    }
   ],
   "source": [
    "!ls"
   ]
  },
  {
   "cell_type": "code",
   "execution_count": 3,
   "id": "b6dfdd1b",
   "metadata": {},
   "outputs": [],
   "source": [
    "df=pd.read_csv('male_female_prediction.csv')"
   ]
  },
  {
   "cell_type": "code",
   "execution_count": 4,
   "id": "359d5c61",
   "metadata": {},
   "outputs": [
    {
     "data": {
      "text/html": [
       "<div>\n",
       "<style scoped>\n",
       "    .dataframe tbody tr th:only-of-type {\n",
       "        vertical-align: middle;\n",
       "    }\n",
       "\n",
       "    .dataframe tbody tr th {\n",
       "        vertical-align: top;\n",
       "    }\n",
       "\n",
       "    .dataframe thead th {\n",
       "        text-align: right;\n",
       "    }\n",
       "</style>\n",
       "<table border=\"1\" class=\"dataframe\">\n",
       "  <thead>\n",
       "    <tr style=\"text-align: right;\">\n",
       "      <th></th>\n",
       "      <th>Gender</th>\n",
       "      <th>Height</th>\n",
       "      <th>Weight</th>\n",
       "      <th>Index</th>\n",
       "    </tr>\n",
       "  </thead>\n",
       "  <tbody>\n",
       "    <tr>\n",
       "      <th>0</th>\n",
       "      <td>Male</td>\n",
       "      <td>174</td>\n",
       "      <td>96</td>\n",
       "      <td>4</td>\n",
       "    </tr>\n",
       "    <tr>\n",
       "      <th>1</th>\n",
       "      <td>Male</td>\n",
       "      <td>189</td>\n",
       "      <td>87</td>\n",
       "      <td>2</td>\n",
       "    </tr>\n",
       "    <tr>\n",
       "      <th>2</th>\n",
       "      <td>Female</td>\n",
       "      <td>185</td>\n",
       "      <td>110</td>\n",
       "      <td>4</td>\n",
       "    </tr>\n",
       "    <tr>\n",
       "      <th>3</th>\n",
       "      <td>Female</td>\n",
       "      <td>195</td>\n",
       "      <td>104</td>\n",
       "      <td>3</td>\n",
       "    </tr>\n",
       "    <tr>\n",
       "      <th>4</th>\n",
       "      <td>Male</td>\n",
       "      <td>149</td>\n",
       "      <td>61</td>\n",
       "      <td>3</td>\n",
       "    </tr>\n",
       "  </tbody>\n",
       "</table>\n",
       "</div>"
      ],
      "text/plain": [
       "   Gender  Height  Weight  Index\n",
       "0    Male     174      96      4\n",
       "1    Male     189      87      2\n",
       "2  Female     185     110      4\n",
       "3  Female     195     104      3\n",
       "4    Male     149      61      3"
      ]
     },
     "execution_count": 4,
     "metadata": {},
     "output_type": "execute_result"
    }
   ],
   "source": [
    "df.head()"
   ]
  },
  {
   "cell_type": "markdown",
   "id": "a8bb2e12",
   "metadata": {},
   "source": [
    "Here we want to predict male and female based on height and weight.\n",
    "We don't need to Index column so we drop it\n",
    "and convert male and female to numeric label\n",
    "0:male\n",
    "1:female"
   ]
  },
  {
   "cell_type": "code",
   "execution_count": 5,
   "id": "15611b04",
   "metadata": {},
   "outputs": [
    {
     "data": {
      "text/html": [
       "<div>\n",
       "<style scoped>\n",
       "    .dataframe tbody tr th:only-of-type {\n",
       "        vertical-align: middle;\n",
       "    }\n",
       "\n",
       "    .dataframe tbody tr th {\n",
       "        vertical-align: top;\n",
       "    }\n",
       "\n",
       "    .dataframe thead th {\n",
       "        text-align: right;\n",
       "    }\n",
       "</style>\n",
       "<table border=\"1\" class=\"dataframe\">\n",
       "  <thead>\n",
       "    <tr style=\"text-align: right;\">\n",
       "      <th></th>\n",
       "      <th>Gender</th>\n",
       "      <th>Height</th>\n",
       "      <th>Weight</th>\n",
       "      <th>Index</th>\n",
       "    </tr>\n",
       "  </thead>\n",
       "  <tbody>\n",
       "    <tr>\n",
       "      <th>0</th>\n",
       "      <td>Male</td>\n",
       "      <td>174</td>\n",
       "      <td>96</td>\n",
       "      <td>4</td>\n",
       "    </tr>\n",
       "    <tr>\n",
       "      <th>1</th>\n",
       "      <td>Male</td>\n",
       "      <td>189</td>\n",
       "      <td>87</td>\n",
       "      <td>2</td>\n",
       "    </tr>\n",
       "    <tr>\n",
       "      <th>2</th>\n",
       "      <td>Female</td>\n",
       "      <td>185</td>\n",
       "      <td>110</td>\n",
       "      <td>4</td>\n",
       "    </tr>\n",
       "    <tr>\n",
       "      <th>3</th>\n",
       "      <td>Female</td>\n",
       "      <td>195</td>\n",
       "      <td>104</td>\n",
       "      <td>3</td>\n",
       "    </tr>\n",
       "    <tr>\n",
       "      <th>4</th>\n",
       "      <td>Male</td>\n",
       "      <td>149</td>\n",
       "      <td>61</td>\n",
       "      <td>3</td>\n",
       "    </tr>\n",
       "  </tbody>\n",
       "</table>\n",
       "</div>"
      ],
      "text/plain": [
       "   Gender  Height  Weight  Index\n",
       "0    Male     174      96      4\n",
       "1    Male     189      87      2\n",
       "2  Female     185     110      4\n",
       "3  Female     195     104      3\n",
       "4    Male     149      61      3"
      ]
     },
     "execution_count": 5,
     "metadata": {},
     "output_type": "execute_result"
    }
   ],
   "source": [
    "#df=df.drop(columns=['Gender'])\n",
    "df.head()"
   ]
  },
  {
   "cell_type": "code",
   "execution_count": 6,
   "id": "1d5fe7a8",
   "metadata": {},
   "outputs": [],
   "source": [
    "df['Gender'].replace(['Male', 'Female'],\n",
    "                        [1, 0], inplace=True)"
   ]
  },
  {
   "cell_type": "code",
   "execution_count": 7,
   "id": "8f8e3e1b",
   "metadata": {},
   "outputs": [
    {
     "data": {
      "text/html": [
       "<div>\n",
       "<style scoped>\n",
       "    .dataframe tbody tr th:only-of-type {\n",
       "        vertical-align: middle;\n",
       "    }\n",
       "\n",
       "    .dataframe tbody tr th {\n",
       "        vertical-align: top;\n",
       "    }\n",
       "\n",
       "    .dataframe thead th {\n",
       "        text-align: right;\n",
       "    }\n",
       "</style>\n",
       "<table border=\"1\" class=\"dataframe\">\n",
       "  <thead>\n",
       "    <tr style=\"text-align: right;\">\n",
       "      <th></th>\n",
       "      <th>Gender</th>\n",
       "      <th>Height</th>\n",
       "      <th>Weight</th>\n",
       "      <th>Index</th>\n",
       "    </tr>\n",
       "  </thead>\n",
       "  <tbody>\n",
       "    <tr>\n",
       "      <th>0</th>\n",
       "      <td>1</td>\n",
       "      <td>174</td>\n",
       "      <td>96</td>\n",
       "      <td>4</td>\n",
       "    </tr>\n",
       "    <tr>\n",
       "      <th>1</th>\n",
       "      <td>1</td>\n",
       "      <td>189</td>\n",
       "      <td>87</td>\n",
       "      <td>2</td>\n",
       "    </tr>\n",
       "    <tr>\n",
       "      <th>2</th>\n",
       "      <td>0</td>\n",
       "      <td>185</td>\n",
       "      <td>110</td>\n",
       "      <td>4</td>\n",
       "    </tr>\n",
       "    <tr>\n",
       "      <th>3</th>\n",
       "      <td>0</td>\n",
       "      <td>195</td>\n",
       "      <td>104</td>\n",
       "      <td>3</td>\n",
       "    </tr>\n",
       "    <tr>\n",
       "      <th>4</th>\n",
       "      <td>1</td>\n",
       "      <td>149</td>\n",
       "      <td>61</td>\n",
       "      <td>3</td>\n",
       "    </tr>\n",
       "  </tbody>\n",
       "</table>\n",
       "</div>"
      ],
      "text/plain": [
       "   Gender  Height  Weight  Index\n",
       "0       1     174      96      4\n",
       "1       1     189      87      2\n",
       "2       0     185     110      4\n",
       "3       0     195     104      3\n",
       "4       1     149      61      3"
      ]
     },
     "execution_count": 7,
     "metadata": {},
     "output_type": "execute_result"
    }
   ],
   "source": [
    "df.head()"
   ]
  },
  {
   "cell_type": "code",
   "execution_count": 8,
   "id": "f6799bae",
   "metadata": {},
   "outputs": [],
   "source": [
    "height_list=df['Height'].to_list()\n",
    "weight_list=df[\"Weight\"].to_list()\n"
   ]
  },
  {
   "cell_type": "code",
   "execution_count": 9,
   "id": "a4260753",
   "metadata": {},
   "outputs": [
    {
     "data": {
      "text/plain": [
       "(500, 500, 500)"
      ]
     },
     "execution_count": 9,
     "metadata": {},
     "output_type": "execute_result"
    }
   ],
   "source": [
    "len(height_list),len(weight_list),len(df)"
   ]
  },
  {
   "cell_type": "code",
   "execution_count": 10,
   "id": "9cfcc753",
   "metadata": {},
   "outputs": [
    {
     "data": {
      "text/plain": [
       "(500, 2)"
      ]
     },
     "execution_count": 10,
     "metadata": {},
     "output_type": "execute_result"
    }
   ],
   "source": [
    "X=np.array(list(zip(height_list,weight_list)),dtype=np.float32)\n",
    "X.shape"
   ]
  },
  {
   "cell_type": "code",
   "execution_count": 11,
   "id": "e8c15305",
   "metadata": {},
   "outputs": [
    {
     "data": {
      "text/plain": [
       "dtype('float32')"
      ]
     },
     "execution_count": 11,
     "metadata": {},
     "output_type": "execute_result"
    }
   ],
   "source": [
    "X.dtype"
   ]
  },
  {
   "cell_type": "markdown",
   "id": "9f0e77c0",
   "metadata": {},
   "source": [
    "So we have a feature vector having 500 inputs with 2 feature for each inputs"
   ]
  },
  {
   "cell_type": "code",
   "execution_count": 12,
   "id": "e9a9bdb0",
   "metadata": {},
   "outputs": [
    {
     "data": {
      "text/plain": [
       "array([[0.174, 0.096],\n",
       "       [0.189, 0.087],\n",
       "       [0.185, 0.11 ],\n",
       "       [0.195, 0.104],\n",
       "       [0.149, 0.061],\n",
       "       [0.189, 0.104],\n",
       "       [0.147, 0.092],\n",
       "       [0.154, 0.111],\n",
       "       [0.174, 0.09 ],\n",
       "       [0.169, 0.103],\n",
       "       [0.195, 0.081],\n",
       "       [0.159, 0.08 ],\n",
       "       [0.192, 0.101],\n",
       "       [0.155, 0.051],\n",
       "       [0.191, 0.079],\n",
       "       [0.153, 0.107],\n",
       "       [0.157, 0.11 ],\n",
       "       [0.14 , 0.129],\n",
       "       [0.144, 0.145],\n",
       "       [0.172, 0.139],\n",
       "       [0.157, 0.11 ],\n",
       "       [0.153, 0.149],\n",
       "       [0.169, 0.097],\n",
       "       [0.185, 0.139],\n",
       "       [0.172, 0.067],\n",
       "       [0.151, 0.064],\n",
       "       [0.19 , 0.095],\n",
       "       [0.187, 0.062],\n",
       "       [0.163, 0.159],\n",
       "       [0.179, 0.152],\n",
       "       [0.153, 0.121],\n",
       "       [0.178, 0.052],\n",
       "       [0.195, 0.065],\n",
       "       [0.16 , 0.131],\n",
       "       [0.157, 0.153],\n",
       "       [0.189, 0.132],\n",
       "       [0.197, 0.114],\n",
       "       [0.144, 0.08 ],\n",
       "       [0.171, 0.152],\n",
       "       [0.185, 0.081],\n",
       "       [0.175, 0.12 ],\n",
       "       [0.149, 0.108],\n",
       "       [0.157, 0.056],\n",
       "       [0.161, 0.118],\n",
       "       [0.182, 0.126],\n",
       "       [0.185, 0.076],\n",
       "       [0.188, 0.122],\n",
       "       [0.181, 0.111],\n",
       "       [0.161, 0.072],\n",
       "       [0.14 , 0.152],\n",
       "       [0.168, 0.135],\n",
       "       [0.176, 0.054],\n",
       "       [0.163, 0.11 ],\n",
       "       [0.172, 0.105],\n",
       "       [0.196, 0.116],\n",
       "       [0.187, 0.089],\n",
       "       [0.172, 0.092],\n",
       "       [0.178, 0.127],\n",
       "       [0.164, 0.07 ],\n",
       "       [0.143, 0.088],\n",
       "       [0.191, 0.054],\n",
       "       [0.141, 0.143],\n",
       "       [0.193, 0.054],\n",
       "       [0.19 , 0.083],\n",
       "       [0.175, 0.135],\n",
       "       [0.179, 0.158],\n",
       "       [0.172, 0.096],\n",
       "       [0.168, 0.059],\n",
       "       [0.164, 0.082],\n",
       "       [0.194, 0.136],\n",
       "       [0.153, 0.051],\n",
       "       [0.178, 0.117],\n",
       "       [0.141, 0.08 ],\n",
       "       [0.18 , 0.075],\n",
       "       [0.185, 0.1  ],\n",
       "       [0.197, 0.154],\n",
       "       [0.165, 0.104],\n",
       "       [0.168, 0.09 ],\n",
       "       [0.176, 0.122],\n",
       "       [0.181, 0.051],\n",
       "       [0.164, 0.075],\n",
       "       [0.166, 0.14 ],\n",
       "       [0.19 , 0.105],\n",
       "       [0.186, 0.118],\n",
       "       [0.168, 0.123],\n",
       "       [0.198, 0.05 ],\n",
       "       [0.175, 0.141],\n",
       "       [0.145, 0.117],\n",
       "       [0.159, 0.104],\n",
       "       [0.185, 0.14 ],\n",
       "       [0.178, 0.154],\n",
       "       [0.183, 0.096],\n",
       "       [0.194, 0.111],\n",
       "       [0.177, 0.061],\n",
       "       [0.197, 0.119],\n",
       "       [0.17 , 0.156],\n",
       "       [0.142, 0.069],\n",
       "       [0.16 , 0.139],\n",
       "       [0.195, 0.069],\n",
       "       [0.19 , 0.05 ],\n",
       "       [0.199, 0.156],\n",
       "       [0.154, 0.105],\n",
       "       [0.161, 0.155],\n",
       "       [0.198, 0.145],\n",
       "       [0.192, 0.14 ],\n",
       "       [0.195, 0.126],\n",
       "       [0.166, 0.16 ],\n",
       "       [0.159, 0.154],\n",
       "       [0.181, 0.106],\n",
       "       [0.149, 0.066],\n",
       "       [0.15 , 0.07 ],\n",
       "       [0.146, 0.157],\n",
       "       [0.19 , 0.135],\n",
       "       [0.192, 0.09 ],\n",
       "       [0.177, 0.096],\n",
       "       [0.148, 0.06 ],\n",
       "       [0.165, 0.057],\n",
       "       [0.146, 0.104],\n",
       "       [0.144, 0.108],\n",
       "       [0.176, 0.156],\n",
       "       [0.168, 0.087],\n",
       "       [0.187, 0.122],\n",
       "       [0.187, 0.138],\n",
       "       [0.184, 0.16 ],\n",
       "       [0.158, 0.149],\n",
       "       [0.158, 0.096],\n",
       "       [0.194, 0.115],\n",
       "       [0.145, 0.079],\n",
       "       [0.182, 0.151],\n",
       "       [0.154, 0.054],\n",
       "       [0.168, 0.139],\n",
       "       [0.187, 0.07 ],\n",
       "       [0.158, 0.153],\n",
       "       [0.167, 0.11 ],\n",
       "       [0.171, 0.155],\n",
       "       [0.183, 0.15 ],\n",
       "       [0.19 , 0.156],\n",
       "       [0.194, 0.108],\n",
       "       [0.171, 0.147],\n",
       "       [0.159, 0.124],\n",
       "       [0.169, 0.054],\n",
       "       [0.167, 0.085],\n",
       "       [0.18 , 0.149],\n",
       "       [0.163, 0.123],\n",
       "       [0.14 , 0.079],\n",
       "       [0.197, 0.125],\n",
       "       [0.194, 0.106],\n",
       "       [0.14 , 0.146],\n",
       "       [0.195, 0.098],\n",
       "       [0.168, 0.115],\n",
       "       [0.196, 0.05 ],\n",
       "       [0.14 , 0.052],\n",
       "       [0.15 , 0.06 ],\n",
       "       [0.168, 0.14 ],\n",
       "       [0.155, 0.111],\n",
       "       [0.179, 0.103],\n",
       "       [0.182, 0.084],\n",
       "       [0.168, 0.16 ],\n",
       "       [0.187, 0.102],\n",
       "       [0.181, 0.105],\n",
       "       [0.199, 0.099],\n",
       "       [0.184, 0.076],\n",
       "       [0.192, 0.101],\n",
       "       [0.182, 0.143],\n",
       "       [0.172, 0.111],\n",
       "       [0.181, 0.078],\n",
       "       [0.176, 0.109],\n",
       "       [0.156, 0.106],\n",
       "       [0.151, 0.067],\n",
       "       [0.188, 0.08 ],\n",
       "       [0.187, 0.136],\n",
       "       [0.174, 0.138],\n",
       "       [0.167, 0.151],\n",
       "       [0.196, 0.131],\n",
       "       [0.197, 0.149],\n",
       "       [0.185, 0.119],\n",
       "       [0.17 , 0.102],\n",
       "       [0.181, 0.094],\n",
       "       [0.166, 0.126],\n",
       "       [0.188, 0.1  ],\n",
       "       [0.162, 0.074],\n",
       "       [0.177, 0.117],\n",
       "       [0.162, 0.097],\n",
       "       [0.18 , 0.073],\n",
       "       [0.192, 0.108],\n",
       "       [0.165, 0.08 ],\n",
       "       [0.167, 0.135],\n",
       "       [0.182, 0.084],\n",
       "       [0.161, 0.134],\n",
       "       [0.158, 0.095],\n",
       "       [0.141, 0.085],\n",
       "       [0.154, 0.1  ],\n",
       "       [0.165, 0.105],\n",
       "       [0.142, 0.137],\n",
       "       [0.141, 0.094],\n",
       "       [0.145, 0.108],\n",
       "       [0.157, 0.074],\n",
       "       [0.177, 0.117],\n",
       "       [0.166, 0.144],\n",
       "       [0.193, 0.151],\n",
       "       [0.184, 0.057],\n",
       "       [0.179, 0.093],\n",
       "       [0.156, 0.089],\n",
       "       [0.182, 0.104],\n",
       "       [0.145, 0.16 ],\n",
       "       [0.15 , 0.087],\n",
       "       [0.145, 0.099],\n",
       "       [0.196, 0.122],\n",
       "       [0.191, 0.096],\n",
       "       [0.148, 0.067],\n",
       "       [0.15 , 0.084],\n",
       "       [0.148, 0.155],\n",
       "       [0.153, 0.146],\n",
       "       [0.196, 0.159],\n",
       "       [0.185, 0.052],\n",
       "       [0.171, 0.131],\n",
       "       [0.143, 0.118],\n",
       "       [0.142, 0.086],\n",
       "       [0.141, 0.126],\n",
       "       [0.159, 0.109],\n",
       "       [0.173, 0.082],\n",
       "       [0.183, 0.138],\n",
       "       [0.152, 0.09 ],\n",
       "       [0.178, 0.14 ],\n",
       "       [0.188, 0.054],\n",
       "       [0.155, 0.144],\n",
       "       [0.166, 0.07 ],\n",
       "       [0.188, 0.123],\n",
       "       [0.171, 0.12 ],\n",
       "       [0.179, 0.13 ],\n",
       "       [0.186, 0.137],\n",
       "       [0.153, 0.078],\n",
       "       [0.184, 0.086],\n",
       "       [0.177, 0.081],\n",
       "       [0.145, 0.078],\n",
       "       [0.17 , 0.081],\n",
       "       [0.181, 0.141],\n",
       "       [0.165, 0.155],\n",
       "       [0.174, 0.065],\n",
       "       [0.146, 0.11 ],\n",
       "       [0.178, 0.085],\n",
       "       [0.166, 0.061],\n",
       "       [0.191, 0.062],\n",
       "       [0.177, 0.155],\n",
       "       [0.183, 0.05 ],\n",
       "       [0.151, 0.114],\n",
       "       [0.182, 0.098],\n",
       "       [0.142, 0.159],\n",
       "       [0.188, 0.09 ],\n",
       "       [0.161, 0.089],\n",
       "       [0.153, 0.07 ],\n",
       "       [0.14 , 0.143],\n",
       "       [0.169, 0.141],\n",
       "       [0.162, 0.159],\n",
       "       [0.183, 0.147],\n",
       "       [0.162, 0.058],\n",
       "       [0.172, 0.109],\n",
       "       [0.15 , 0.119],\n",
       "       [0.169, 0.145],\n",
       "       [0.184, 0.132],\n",
       "       [0.159, 0.104],\n",
       "       [0.163, 0.131],\n",
       "       [0.156, 0.137],\n",
       "       [0.157, 0.052],\n",
       "       [0.147, 0.084],\n",
       "       [0.141, 0.086],\n",
       "       [0.173, 0.139],\n",
       "       [0.154, 0.145],\n",
       "       [0.168, 0.148],\n",
       "       [0.168, 0.05 ],\n",
       "       [0.145, 0.13 ],\n",
       "       [0.152, 0.103],\n",
       "       [0.187, 0.121],\n",
       "       [0.163, 0.057],\n",
       "       [0.178, 0.083],\n",
       "       [0.187, 0.094],\n",
       "       [0.179, 0.114],\n",
       "       [0.19 , 0.08 ],\n",
       "       [0.172, 0.075],\n",
       "       [0.188, 0.057],\n",
       "       [0.193, 0.065],\n",
       "       [0.147, 0.126],\n",
       "       [0.147, 0.094],\n",
       "       [0.166, 0.107],\n",
       "       [0.192, 0.139],\n",
       "       [0.181, 0.139],\n",
       "       [0.15 , 0.074],\n",
       "       [0.178, 0.16 ],\n",
       "       [0.156, 0.052],\n",
       "       [0.149, 0.1  ],\n",
       "       [0.156, 0.074],\n",
       "       [0.183, 0.105],\n",
       "       [0.162, 0.068],\n",
       "       [0.165, 0.083],\n",
       "       [0.168, 0.143],\n",
       "       [0.16 , 0.156],\n",
       "       [0.169, 0.088],\n",
       "       [0.14 , 0.076],\n",
       "       [0.187, 0.092],\n",
       "       [0.151, 0.082],\n",
       "       [0.186, 0.14 ],\n",
       "       [0.182, 0.108],\n",
       "       [0.188, 0.081],\n",
       "       [0.179, 0.11 ],\n",
       "       [0.156, 0.126],\n",
       "       [0.188, 0.114],\n",
       "       [0.183, 0.153],\n",
       "       [0.144, 0.088],\n",
       "       [0.196, 0.069],\n",
       "       [0.171, 0.141],\n",
       "       [0.171, 0.147],\n",
       "       [0.18 , 0.156],\n",
       "       [0.191, 0.146],\n",
       "       [0.179, 0.067],\n",
       "       [0.18 , 0.06 ],\n",
       "       [0.154, 0.132],\n",
       "       [0.188, 0.099],\n",
       "       [0.142, 0.135],\n",
       "       [0.17 , 0.095],\n",
       "       [0.152, 0.141],\n",
       "       [0.19 , 0.118],\n",
       "       [0.181, 0.111],\n",
       "       [0.153, 0.104],\n",
       "       [0.187, 0.14 ],\n",
       "       [0.144, 0.066],\n",
       "       [0.148, 0.054],\n",
       "       [0.199, 0.092],\n",
       "       [0.167, 0.085],\n",
       "       [0.164, 0.071],\n",
       "       [0.185, 0.102],\n",
       "       [0.164, 0.16 ],\n",
       "       [0.142, 0.071],\n",
       "       [0.165, 0.068],\n",
       "       [0.172, 0.062],\n",
       "       [0.157, 0.056],\n",
       "       [0.155, 0.057],\n",
       "       [0.167, 0.153],\n",
       "       [0.164, 0.126],\n",
       "       [0.189, 0.125],\n",
       "       [0.161, 0.145],\n",
       "       [0.155, 0.071],\n",
       "       [0.171, 0.118],\n",
       "       [0.154, 0.092],\n",
       "       [0.179, 0.083],\n",
       "       [0.17 , 0.115],\n",
       "       [0.184, 0.106],\n",
       "       [0.191, 0.068],\n",
       "       [0.162, 0.058],\n",
       "       [0.178, 0.138],\n",
       "       [0.157, 0.06 ],\n",
       "       [0.184, 0.083],\n",
       "       [0.197, 0.088],\n",
       "       [0.16 , 0.051],\n",
       "       [0.184, 0.153],\n",
       "       [0.19 , 0.05 ],\n",
       "       [0.174, 0.09 ],\n",
       "       [0.189, 0.124],\n",
       "       [0.186, 0.143],\n",
       "       [0.18 , 0.058],\n",
       "       [0.186, 0.148],\n",
       "       [0.193, 0.061],\n",
       "       [0.161, 0.103],\n",
       "       [0.151, 0.158],\n",
       "       [0.195, 0.147],\n",
       "       [0.184, 0.152],\n",
       "       [0.141, 0.08 ],\n",
       "       [0.185, 0.094],\n",
       "       [0.186, 0.127],\n",
       "       [0.142, 0.131],\n",
       "       [0.147, 0.067],\n",
       "       [0.151, 0.062],\n",
       "       [0.16 , 0.124],\n",
       "       [0.185, 0.06 ],\n",
       "       [0.163, 0.063],\n",
       "       [0.174, 0.095],\n",
       "       [0.15 , 0.144],\n",
       "       [0.142, 0.091],\n",
       "       [0.178, 0.142],\n",
       "       [0.154, 0.096],\n",
       "       [0.176, 0.087],\n",
       "       [0.159, 0.12 ],\n",
       "       [0.191, 0.062],\n",
       "       [0.177, 0.117],\n",
       "       [0.151, 0.154],\n",
       "       [0.182, 0.149],\n",
       "       [0.197, 0.072],\n",
       "       [0.146, 0.138],\n",
       "       [0.16 , 0.083],\n",
       "       [0.157, 0.066],\n",
       "       [0.15 , 0.05 ],\n",
       "       [0.167, 0.058],\n",
       "       [0.18 , 0.07 ],\n",
       "       [0.183, 0.076],\n",
       "       [0.183, 0.087],\n",
       "       [0.152, 0.154],\n",
       "       [0.164, 0.071],\n",
       "       [0.187, 0.096],\n",
       "       [0.169, 0.136],\n",
       "       [0.149, 0.061],\n",
       "       [0.163, 0.137],\n",
       "       [0.195, 0.104],\n",
       "       [0.174, 0.107],\n",
       "       [0.182, 0.07 ],\n",
       "       [0.169, 0.11 ],\n",
       "       [0.193, 0.13 ],\n",
       "       [0.148, 0.141],\n",
       "       [0.186, 0.068],\n",
       "       [0.165, 0.143],\n",
       "       [0.146, 0.123],\n",
       "       [0.166, 0.133],\n",
       "       [0.179, 0.056],\n",
       "       [0.177, 0.101],\n",
       "       [0.181, 0.154],\n",
       "       [0.161, 0.154],\n",
       "       [0.157, 0.103],\n",
       "       [0.169, 0.098],\n",
       "       [0.152, 0.114],\n",
       "       [0.162, 0.064],\n",
       "       [0.162, 0.13 ],\n",
       "       [0.177, 0.061],\n",
       "       [0.195, 0.061],\n",
       "       [0.14 , 0.146],\n",
       "       [0.186, 0.146],\n",
       "       [0.178, 0.107],\n",
       "       [0.174, 0.054],\n",
       "       [0.18 , 0.059],\n",
       "       [0.188, 0.141],\n",
       "       [0.187, 0.13 ],\n",
       "       [0.153, 0.077],\n",
       "       [0.165, 0.095],\n",
       "       [0.178, 0.079],\n",
       "       [0.163, 0.154],\n",
       "       [0.15 , 0.097],\n",
       "       [0.179, 0.127],\n",
       "       [0.165, 0.062],\n",
       "       [0.168, 0.158],\n",
       "       [0.153, 0.133],\n",
       "       [0.184, 0.157],\n",
       "       [0.188, 0.065],\n",
       "       [0.166, 0.153],\n",
       "       [0.172, 0.116],\n",
       "       [0.182, 0.073],\n",
       "       [0.143, 0.149],\n",
       "       [0.152, 0.146],\n",
       "       [0.186, 0.128],\n",
       "       [0.159, 0.14 ],\n",
       "       [0.146, 0.07 ],\n",
       "       [0.176, 0.121],\n",
       "       [0.146, 0.101],\n",
       "       [0.159, 0.145],\n",
       "       [0.162, 0.157],\n",
       "       [0.172, 0.09 ],\n",
       "       [0.169, 0.121],\n",
       "       [0.182, 0.05 ],\n",
       "       [0.183, 0.079],\n",
       "       [0.176, 0.077],\n",
       "       [0.188, 0.128],\n",
       "       [0.175, 0.083],\n",
       "       [0.154, 0.081],\n",
       "       [0.184, 0.147],\n",
       "       [0.179, 0.123],\n",
       "       [0.152, 0.132],\n",
       "       [0.179, 0.056],\n",
       "       [0.145, 0.141],\n",
       "       [0.181, 0.08 ],\n",
       "       [0.158, 0.127],\n",
       "       [0.188, 0.099],\n",
       "       [0.145, 0.142],\n",
       "       [0.161, 0.115],\n",
       "       [0.198, 0.109],\n",
       "       [0.147, 0.142],\n",
       "       [0.154, 0.112],\n",
       "       [0.178, 0.065],\n",
       "       [0.195, 0.153],\n",
       "       [0.167, 0.079],\n",
       "       [0.183, 0.131],\n",
       "       [0.164, 0.142],\n",
       "       [0.167, 0.064],\n",
       "       [0.151, 0.055],\n",
       "       [0.147, 0.107],\n",
       "       [0.155, 0.115],\n",
       "       [0.172, 0.108],\n",
       "       [0.142, 0.086],\n",
       "       [0.146, 0.085],\n",
       "       [0.188, 0.115],\n",
       "       [0.173, 0.111],\n",
       "       [0.16 , 0.109],\n",
       "       [0.187, 0.08 ],\n",
       "       [0.198, 0.136],\n",
       "       [0.179, 0.15 ],\n",
       "       [0.164, 0.059],\n",
       "       [0.146, 0.147],\n",
       "       [0.198, 0.05 ],\n",
       "       [0.17 , 0.053],\n",
       "       [0.152, 0.098],\n",
       "       [0.15 , 0.153],\n",
       "       [0.184, 0.121],\n",
       "       [0.141, 0.136],\n",
       "       [0.15 , 0.095],\n",
       "       [0.173, 0.131]], dtype=float32)"
      ]
     },
     "execution_count": 12,
     "metadata": {},
     "output_type": "execute_result"
    }
   ],
   "source": [
    "X=X/1000\n",
    "X"
   ]
  },
  {
   "cell_type": "markdown",
   "id": "4fc9e6c3",
   "metadata": {},
   "source": [
    "Now our outputs Y is array of labels 1 and 0 "
   ]
  },
  {
   "cell_type": "code",
   "execution_count": 13,
   "id": "b0c614fb",
   "metadata": {},
   "outputs": [],
   "source": [
    "Y=np.array(df['Gender'].to_list())"
   ]
  },
  {
   "cell_type": "code",
   "execution_count": 14,
   "id": "d5f643c7",
   "metadata": {},
   "outputs": [
    {
     "data": {
      "text/plain": [
       "array([1, 1, 0, 0, 1, 1, 1, 1, 1, 0, 1, 0, 0, 1, 1, 0, 0, 1, 1, 1, 1, 0,\n",
       "       0, 1, 0, 0, 1, 1, 0, 1, 1, 1, 0, 0, 0, 0, 0, 1, 0, 0, 0, 0, 1, 1,\n",
       "       0, 1, 0, 1, 1, 1, 0, 0, 1, 1, 1, 0, 1, 1, 0, 1, 0, 0, 1, 1, 1, 0,\n",
       "       0, 0, 0, 0, 0, 1, 1, 1, 0, 0, 1, 0, 0, 1, 1, 0, 0, 1, 1, 1, 0, 1,\n",
       "       0, 0, 0, 0, 0, 1, 1, 0, 1, 1, 1, 0, 1, 1, 1, 0, 0, 1, 1, 1, 0, 1,\n",
       "       0, 0, 1, 0, 0, 1, 0, 0, 1, 0, 0, 1, 1, 0, 0, 1, 1, 0, 1, 1, 0, 0,\n",
       "       0, 0, 0, 0, 0, 1, 1, 1, 0, 0, 1, 1, 1, 1, 1, 0, 1, 0, 0, 1, 0, 0,\n",
       "       0, 0, 0, 1, 0, 1, 1, 0, 1, 0, 0, 1, 1, 0, 0, 0, 1, 1, 1, 0, 1, 0,\n",
       "       0, 0, 0, 1, 0, 1, 1, 1, 0, 1, 0, 0, 0, 1, 1, 1, 1, 0, 1, 1, 1, 0,\n",
       "       0, 1, 1, 1, 0, 1, 1, 0, 1, 0, 1, 0, 0, 1, 0, 0, 0, 0, 0, 0, 0, 1,\n",
       "       0, 1, 0, 1, 1, 0, 1, 1, 0, 1, 0, 0, 0, 0, 1, 1, 1, 1, 0, 0, 1, 1,\n",
       "       1, 0, 0, 1, 1, 0, 0, 1, 1, 1, 1, 0, 1, 0, 0, 0, 0, 0, 1, 1, 1, 0,\n",
       "       1, 1, 1, 1, 1, 1, 1, 1, 0, 0, 1, 0, 0, 1, 1, 1, 1, 0, 0, 1, 0, 1,\n",
       "       1, 1, 0, 1, 1, 1, 0, 0, 0, 1, 0, 0, 0, 1, 0, 1, 1, 1, 0, 1, 1, 1,\n",
       "       1, 1, 1, 0, 1, 0, 0, 0, 1, 1, 1, 1, 0, 0, 1, 1, 0, 0, 0, 0, 0, 0,\n",
       "       0, 1, 1, 0, 0, 1, 0, 0, 0, 0, 0, 0, 0, 1, 1, 0, 0, 1, 1, 0, 1, 1,\n",
       "       0, 1, 1, 1, 0, 0, 0, 0, 0, 1, 0, 0, 0, 1, 0, 0, 1, 0, 1, 0, 1, 0,\n",
       "       1, 0, 1, 1, 0, 1, 1, 1, 1, 1, 0, 0, 1, 0, 0, 0, 0, 0, 0, 0, 0, 0,\n",
       "       1, 1, 0, 1, 0, 1, 1, 1, 1, 1, 1, 1, 0, 0, 1, 0, 1, 0, 0, 0, 0, 0,\n",
       "       1, 0, 0, 1, 0, 0, 1, 0, 1, 0, 0, 0, 0, 0, 0, 1, 1, 1, 0, 1, 1, 0,\n",
       "       0, 1, 1, 1, 0, 1, 1, 0, 0, 1, 1, 0, 0, 1, 0, 1, 0, 0, 1, 0, 1, 1,\n",
       "       1, 0, 0, 1, 0, 1, 1, 1, 1, 1, 0, 1, 0, 1, 0, 1, 0, 0, 0, 0, 0, 1,\n",
       "       0, 1, 0, 1, 1, 0, 0, 0, 0, 0, 1, 0, 0, 0, 1, 1])"
      ]
     },
     "execution_count": 14,
     "metadata": {},
     "output_type": "execute_result"
    }
   ],
   "source": [
    "Y"
   ]
  },
  {
   "cell_type": "code",
   "execution_count": 15,
   "id": "62352981",
   "metadata": {},
   "outputs": [
    {
     "data": {
      "text/plain": [
       "((500,), dtype('int64'))"
      ]
     },
     "execution_count": 15,
     "metadata": {},
     "output_type": "execute_result"
    }
   ],
   "source": [
    "Y.shape,Y.dtype"
   ]
  },
  {
   "cell_type": "markdown",
   "id": "2d2beb42",
   "metadata": {},
   "source": [
    "Now let's begin the actual adaline coding portion"
   ]
  },
  {
   "cell_type": "code",
   "execution_count": 16,
   "id": "ebeda190",
   "metadata": {},
   "outputs": [],
   "source": [
    "from numpy.random.mtrand import randint\n",
    "\n",
    "def random_weights(X,random_state:int):\n",
    "  rand = np.random.RandomState(random_state)\n",
    "  w=rand.normal(loc=0.0,scale=1.0,size=1+X.shape[1])\n",
    "\n",
    "  '''create vector of random weights\n",
    "    Parameters\n",
    "    ----------\n",
    "    X: 2-dimensional array, shape = [n_samples, n_features]\n",
    "    Returns\n",
    "    -------\n",
    "    w: array, shape = [w_bias + n_features]'''\n",
    "\n",
    "  return w"
   ]
  },
  {
   "cell_type": "code",
   "execution_count": 17,
   "id": "2c5ed4a9",
   "metadata": {},
   "outputs": [
    {
     "name": "stdout",
     "output_type": "stream",
     "text": [
      "initial random weights [-0.46593737  0.03282016] bias: 1.690525703800356\n"
     ]
    }
   ],
   "source": [
    "w=random_weights(X,7)\n",
    "print(\"initial random weights\",w[1:],\"bias:\",w[0])"
   ]
  },
  {
   "cell_type": "code",
   "execution_count": 18,
   "id": "68cce4f0",
   "metadata": {},
   "outputs": [],
   "source": [
    "def linear_aggregation_function(X,w):\n",
    "    return np.dot(X,w[1:])+w[0]"
   ]
  },
  {
   "cell_type": "code",
   "execution_count": 19,
   "id": "df5c24c7",
   "metadata": {},
   "outputs": [],
   "source": [
    "#let's create a random activation function which says that it is male if y> 1 else female \n",
    "#we randomly decided this activation function insteed of calculating probobalities for both male and female\n",
    "\n",
    "def predict(X, w):\n",
    "    '''Return class label after unit step'''\n",
    "    return np.where(linear_aggregation_function(X, w) >= 0.5, 1, 0)\n"
   ]
  },
  {
   "cell_type": "code",
   "execution_count": 20,
   "id": "18e8ff50",
   "metadata": {},
   "outputs": [
    {
     "name": "stdout",
     "output_type": "stream",
     "text": [
      "1.612603339399633\n"
     ]
    }
   ],
   "source": [
    "#let's calculate outputs for only one input \n",
    "x=X[0]\n",
    "out=linear_aggregation_function(x,w)\n",
    "print(out)"
   ]
  },
  {
   "cell_type": "code",
   "execution_count": 21,
   "id": "36f9aa9c",
   "metadata": {},
   "outputs": [
    {
     "name": "stdout",
     "output_type": "stream",
     "text": [
      "1\n"
     ]
    }
   ],
   "source": [
    "print(predict(x,w))"
   ]
  },
  {
   "cell_type": "markdown",
   "id": "62e50e4e",
   "metadata": {},
   "source": [
    "Remember that although ADALINE learning rule works by comparing the output of a linear function against the class labels when doing predictions, we still need to pass the output by a threshold function to get class labels as in the perceptron."
   ]
  },
  {
   "cell_type": "code",
   "execution_count": 22,
   "id": "980e8970",
   "metadata": {},
   "outputs": [],
   "source": [
    "def fit(X, y, eta=0.001, n_iter=1):\n",
    "    '''loop over exemplars and update weights'''\n",
    "    mse_iteration = []\n",
    "    w = random_weights(X, random_state=1)\n",
    "    for pair in range(n_iter):\n",
    "        output = linear_aggregation_function(X, w)\n",
    "        #since our loss function is mean square error derivative of (y-y_predicted)^2 is d(y-y_predicted)\n",
    "        gradient = 2*(y - output)\n",
    "        w[1:] += eta*(X.T @ gradient)\n",
    "        w[0] += eta*gradient.sum()\n",
    "        mse = (((y - output)**2).sum())/len(y)\n",
    "        mse_iteration.append(mse)\n",
    "    return w, mse_iteration\n"
   ]
  },
  {
   "cell_type": "code",
   "execution_count": 28,
   "id": "cba1dca9",
   "metadata": {},
   "outputs": [
    {
     "name": "stdout",
     "output_type": "stream",
     "text": [
      "ADALINE accuracy: 49.00%\n"
     ]
    }
   ],
   "source": [
    "w, mse = fit(X, Y, eta=1e-4, n_iter=24)\n",
    "y_pred = predict(X, w)\n",
    "num_correct_predictions = (y_pred == Y).sum()\n",
    "accuracy = (num_correct_predictions / Y.shape[0]) * 100\n",
    "print('ADALINE accuracy: %.2f%%' % accuracy)\n"
   ]
  },
  {
   "cell_type": "code",
   "execution_count": 29,
   "id": "e99c3228",
   "metadata": {},
   "outputs": [
    {
     "name": "stdout",
     "output_type": "stream",
     "text": [
      "[1.1997233350358036, 1.0125169977796196, 0.8622292822526431, 0.741579529057947, 0.6447228854135264, 0.5669671521405906, 0.5045454707818605, 0.4544338387115925, 0.41420461178434936, 0.38190889748042683, 0.35598214110160126, 0.3351683311546858, 0.3184591520641315, 0.30504513647600834, 0.29427645073410064, 0.28563141378641704, 0.2786912244252884, 0.2731196725260121, 0.2686468513980562, 0.2650560821961351, 0.2621734169462214, 0.25985921166217374, 0.25800136131388435, 0.25650986891599953]\n"
     ]
    }
   ],
   "source": [
    "print(mse)"
   ]
  },
  {
   "cell_type": "code",
   "execution_count": 25,
   "id": "fb0f7712",
   "metadata": {},
   "outputs": [
    {
     "data": {
      "text/plain": [
       "[<matplotlib.lines.Line2D at 0x7f5b0d364e50>]"
      ]
     },
     "execution_count": 25,
     "metadata": {},
     "output_type": "execute_result"
    },
    {
     "data": {
      "image/png": "[encoded data removed]",
      "text/plain": [
       "<Figure size 640x480 with 1 Axes>"
      ]
     },
     "metadata": {},
     "output_type": "display_data"
    }
   ],
   "source": [
    "import matplotlib.pyplot as plt\n",
    "plt.plot(mse)"
   ]
  },
  {
   "cell_type": "markdown",
   "id": "81d9f484",
   "metadata": {},
   "source": [
    "Since our dataset is small and we are using male and female categorical values as linear values our adaline function \n",
    "is unable to map it properly using only 2 features .From the graph we can predict that two feature values makes our model unable\n",
    "to properly classify our model"
   ]
  }
 ],
 "metadata": {
  "kernelspec": {
   "display_name": "Python 3 (ipykernel)",
   "language": "python",
   "name": "python3"
  },
  "language_info": {
   "codemirror_mode": {
    "name": "ipython",
    "version": 3
   },
   "file_extension": ".py",
   "mimetype": "text/x-python",
   "name": "python",
   "nbconvert_exporter": "python",
   "pygments_lexer": "ipython3",
   "version": "3.9.13"
  }
 },
 "nbformat": 4,
 "nbformat_minor": 5
}
